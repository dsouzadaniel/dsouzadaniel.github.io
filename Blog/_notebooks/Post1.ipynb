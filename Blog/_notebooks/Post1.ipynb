{
 "cells": [
  {
   "cell_type": "raw",
   "id": "51e02686",
   "metadata": {},
   "source": [
    "---\n",
    "title: \"Instruction Tuning: 101\"\n",
    "format:\n",
    "    html:\n",
    "        code-fold: true\n",
    "jupyter: python3\n",
    "---"
   ]
  },
  {
   "cell_type": "raw",
   "id": "e9d064d2",
   "metadata": {},
   "source": [
    "Welcome to my first post~!"
   ]
  },
  {
   "cell_type": "code",
   "execution_count": null,
   "id": "216aca96",
   "metadata": {},
   "outputs": [],
   "source": []
  }
 ],
 "metadata": {
  "kernelspec": {
   "display_name": "Python [conda env:ml] *",
   "language": "python",
   "name": "conda-env-ml-py"
  },
  "language_info": {
   "codemirror_mode": {
    "name": "ipython",
    "version": 3
   },
   "file_extension": ".py",
   "mimetype": "text/x-python",
   "name": "python",
   "nbconvert_exporter": "python",
   "pygments_lexer": "ipython3",
   "version": "3.8.12"
  }
 },
 "nbformat": 4,
 "nbformat_minor": 5
}
